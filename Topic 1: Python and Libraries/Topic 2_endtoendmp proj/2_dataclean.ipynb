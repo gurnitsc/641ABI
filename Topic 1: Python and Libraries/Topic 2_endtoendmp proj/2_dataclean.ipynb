{
 "cells": [
  {
   "cell_type": "code",
   "execution_count": 4,
   "metadata": {},
   "outputs": [],
   "source": [
    "import pandas as pd\n",
    "\n",
    "housing = pd.read_csv('housing.csv')"
   ]
  },
  {
   "cell_type": "markdown",
   "metadata": {},
   "source": [
    "Training and Test Sets"
   ]
  },
  {
   "cell_type": "code",
   "execution_count": 12,
   "metadata": {},
   "outputs": [
    {
     "data": {
      "text/plain": [
       "array([3, 4, 7, 0, 8, 2, 9, 5, 1, 6])"
      ]
     },
     "execution_count": 12,
     "metadata": {},
     "output_type": "execute_result"
    }
   ],
   "source": [
    "import numpy as np\n",
    "#np.random.seed(206)\n",
    "np.random.permutation(10)"
   ]
  },
  {
   "cell_type": "code",
   "execution_count": 15,
   "metadata": {},
   "outputs": [],
   "source": [
    "n = len(housing)"
   ]
  },
  {
   "cell_type": "code",
   "execution_count": 17,
   "metadata": {},
   "outputs": [],
   "source": [
    "\n",
    "shuffled_indices = np.random.permutation(n)"
   ]
  },
  {
   "cell_type": "code",
   "execution_count": 18,
   "metadata": {},
   "outputs": [
    {
     "data": {
      "text/plain": [
       "(16512, 4128)"
      ]
     },
     "execution_count": 18,
     "metadata": {},
     "output_type": "execute_result"
    }
   ],
   "source": [
    "train_size = int(n * 0.8)\n",
    "test_size = n - train_size\n",
    "\n",
    "train_size, test_size"
   ]
  },
  {
   "cell_type": "code",
   "execution_count": 20,
   "metadata": {},
   "outputs": [],
   "source": [
    "train_indices = shuffled_indices[:train_size]\n",
    "test_indices = shuffled_indices[train_size:]"
   ]
  },
  {
   "cell_type": "code",
   "execution_count": 22,
   "metadata": {},
   "outputs": [
    {
     "data": {
      "text/plain": [
       "(       longitude  latitude  housing_median_age  total_rooms  total_bedrooms  \\\n",
       " 15468    -118.80     34.19                 4.0      15572.0          2222.0   \n",
       " 10585    -118.47     34.27                17.0       1444.0           282.0   \n",
       " 960      -121.17     37.88                22.0       1283.0           256.0   \n",
       " 5230     -122.23     37.47                39.0       5264.0          1259.0   \n",
       " 10345    -121.28     38.68                14.0      11442.0          2690.0   \n",
       " ...          ...       ...                 ...          ...             ...   \n",
       " 4514     -117.25     32.80                30.0       2061.0           631.0   \n",
       " 13447    -121.98     38.39                 3.0       9488.0          1417.0   \n",
       " 5435     -122.23     40.57                18.0       1633.0           243.0   \n",
       " 13618    -122.17     40.20                28.0       1782.0           334.0   \n",
       " 14157    -122.00     38.35                38.0       1918.0           364.0   \n",
       " \n",
       "        population  households  median_income  median_house_value  \\\n",
       " 15468      5495.0      2152.0         8.6499            500001.0   \n",
       " 10585       523.0       270.0         2.7353            192400.0   \n",
       " 960        3082.0       239.0         3.5365            111800.0   \n",
       " 5230       3057.0      1265.0         3.6230            276600.0   \n",
       " 10345      6068.0      2435.0         2.6016            121200.0   \n",
       " ...           ...         ...            ...                 ...   \n",
       " 4514       1007.0       577.0         2.5813            253100.0   \n",
       " 13447      4095.0      1335.0         5.1781            191900.0   \n",
       " 5435        750.0       252.0         5.1585            150800.0   \n",
       " 13618       873.0       311.0         3.3594             79100.0   \n",
       " 14157       745.0       348.0         2.5707            126000.0   \n",
       " \n",
       "       ocean_proximity  \n",
       " 15468       <1H OCEAN  \n",
       " 10585       <1H OCEAN  \n",
       " 960            INLAND  \n",
       " 5230       NEAR OCEAN  \n",
       " 10345          INLAND  \n",
       " ...               ...  \n",
       " 4514       NEAR OCEAN  \n",
       " 13447          INLAND  \n",
       " 5435           INLAND  \n",
       " 13618          INLAND  \n",
       " 14157          INLAND  \n",
       " \n",
       " [16512 rows x 10 columns],\n",
       "        longitude  latitude  housing_median_age  total_rooms  total_bedrooms  \\\n",
       " 16536    -117.09     32.76                31.0       2567.0           624.0   \n",
       " 16965    -118.25     34.02                32.0       1311.0           410.0   \n",
       " 9750     -117.14     32.90                16.0       3217.0             NaN   \n",
       " 12573    -117.96     33.99                25.0       1348.0           210.0   \n",
       " 2928     -122.39     37.76                52.0       2316.0           468.0   \n",
       " ...          ...       ...                 ...          ...             ...   \n",
       " 5223     -118.35     34.22                19.0       9259.0          1653.0   \n",
       " 18829    -120.60     35.12                22.0       3342.0           644.0   \n",
       " 633      -118.20     33.94                43.0       1934.0           511.0   \n",
       " 19464    -118.29     33.96                31.0       4022.0          1208.0   \n",
       " 6173     -117.11     32.70                37.0       2045.0           502.0   \n",
       " \n",
       "        population  households  median_income  median_house_value  \\\n",
       " 16536      1255.0       582.0         2.5909            159100.0   \n",
       " 16965      1792.0       396.0         2.3304            119900.0   \n",
       " 9750       2054.0       687.0         4.2234            162100.0   \n",
       " 12573       660.0       200.0         5.2852            297600.0   \n",
       " 2928       1047.0       476.0         4.5057            321600.0   \n",
       " ...           ...         ...            ...                 ...   \n",
       " 5223       3963.0      1595.0         5.9970            228700.0   \n",
       " 18829      1342.0       593.0         3.4509            217700.0   \n",
       " 633        1895.0       493.0         2.5029            159700.0   \n",
       " 19464      3707.0      1007.0         1.3096            116300.0   \n",
       " 6173       1920.0       472.0         1.8125             83300.0   \n",
       " \n",
       "       ocean_proximity  \n",
       " 16536      NEAR OCEAN  \n",
       " 16965       <1H OCEAN  \n",
       " 9750        <1H OCEAN  \n",
       " 12573       <1H OCEAN  \n",
       " 2928         NEAR BAY  \n",
       " ...               ...  \n",
       " 5223        <1H OCEAN  \n",
       " 18829       <1H OCEAN  \n",
       " 633         <1H OCEAN  \n",
       " 19464       <1H OCEAN  \n",
       " 6173       NEAR OCEAN  \n",
       " \n",
       " [4128 rows x 10 columns])"
      ]
     },
     "execution_count": 22,
     "metadata": {},
     "output_type": "execute_result"
    }
   ],
   "source": [
    "housing.iloc[train_indices], housing.iloc[test_indices]"
   ]
  },
  {
   "cell_type": "code",
   "execution_count": 23,
   "metadata": {},
   "outputs": [],
   "source": [
    "from sklearn.model_selection import train_test_split\n",
    "\n",
    "train_set, test_set = train_test_split(housing, test_size=0.2)\n",
    "\n"
   ]
  },
  {
   "cell_type": "code",
   "execution_count": 25,
   "metadata": {},
   "outputs": [
    {
     "data": {
      "text/plain": [
       "((16512, 10), (4128, 10))"
      ]
     },
     "execution_count": 25,
     "metadata": {},
     "output_type": "execute_result"
    }
   ],
   "source": [
    "train_set.shape, test_set.shape"
   ]
  },
  {
   "cell_type": "markdown",
   "metadata": {},
   "source": [
    "Predictors and Label"
   ]
  },
  {
   "cell_type": "code",
   "execution_count": 27,
   "metadata": {},
   "outputs": [],
   "source": [
    "#labek\n",
    "housing_label = train_set['median_house_value'].copy()"
   ]
  },
  {
   "cell_type": "code",
   "execution_count": 28,
   "metadata": {},
   "outputs": [],
   "source": [
    "#predictors\n",
    "housing_X = train_set.drop('median_house_value', axis=1)"
   ]
  },
  {
   "cell_type": "code",
   "execution_count": 29,
   "metadata": {},
   "outputs": [
    {
     "data": {
      "text/plain": [
       "(16512, 9)"
      ]
     },
     "execution_count": 29,
     "metadata": {},
     "output_type": "execute_result"
    }
   ],
   "source": [
    "housing_X.shape"
   ]
  },
  {
   "cell_type": "markdown",
   "metadata": {},
   "source": [
    "#method 1: Delete Rows"
   ]
  },
  {
   "cell_type": "code",
   "execution_count": 45,
   "metadata": {},
   "outputs": [
    {
     "name": "stdout",
     "output_type": "stream",
     "text": [
      "<class 'pandas.core.frame.DataFrame'>\n",
      "Int64Index: 16338 entries, 831 to 17963\n",
      "Data columns (total 9 columns):\n",
      " #   Column              Non-Null Count  Dtype  \n",
      "---  ------              --------------  -----  \n",
      " 0   longitude           16338 non-null  float64\n",
      " 1   latitude            16338 non-null  float64\n",
      " 2   housing_median_age  16338 non-null  float64\n",
      " 3   total_rooms         16338 non-null  float64\n",
      " 4   total_bedrooms      16338 non-null  float64\n",
      " 5   population          16338 non-null  float64\n",
      " 6   households          16338 non-null  float64\n",
      " 7   median_income       16338 non-null  float64\n",
      " 8   ocean_proximity     16338 non-null  object \n",
      "dtypes: float64(8), object(1)\n",
      "memory usage: 1.2+ MB\n"
     ]
    }
   ],
   "source": [
    "housing_X_dropna = housing_X.dropna(subset=['total_bedrooms'])\n",
    "housing_X_dropna.info()"
   ]
  },
  {
   "cell_type": "markdown",
   "metadata": {},
   "source": [
    "##DELETE the column"
   ]
  },
  {
   "cell_type": "code",
   "execution_count": 44,
   "metadata": {},
   "outputs": [
    {
     "name": "stdout",
     "output_type": "stream",
     "text": [
      "<class 'pandas.core.frame.DataFrame'>\n",
      "Int64Index: 16512 entries, 831 to 17963\n",
      "Data columns (total 8 columns):\n",
      " #   Column              Non-Null Count  Dtype  \n",
      "---  ------              --------------  -----  \n",
      " 0   longitude           16512 non-null  float64\n",
      " 1   latitude            16512 non-null  float64\n",
      " 2   housing_median_age  16512 non-null  float64\n",
      " 3   total_rooms         16512 non-null  float64\n",
      " 4   population          16512 non-null  float64\n",
      " 5   households          16512 non-null  float64\n",
      " 6   median_income       16512 non-null  float64\n",
      " 7   ocean_proximity     16512 non-null  object \n",
      "dtypes: float64(7), object(1)\n",
      "memory usage: 1.1+ MB\n"
     ]
    }
   ],
   "source": [
    "housing_X_dropna_cal = housing_X.drop('total_bedrooms', axis=1)\n",
    "\n",
    "housing_X_dropna_cal.info()"
   ]
  },
  {
   "cell_type": "markdown",
   "metadata": {},
   "source": [
    "##Method 3: Set NA as Median"
   ]
  },
  {
   "cell_type": "code",
   "execution_count": 39,
   "metadata": {},
   "outputs": [
    {
     "data": {
      "text/plain": [
       "436.0"
      ]
     },
     "execution_count": 39,
     "metadata": {},
     "output_type": "execute_result"
    }
   ],
   "source": [
    "housing_X_2 = housing_X.copy()\n",
    "\n",
    "median = housing_X_2['total_bedrooms'].median()\n",
    "median"
   ]
  },
  {
   "cell_type": "code",
   "execution_count": 43,
   "metadata": {},
   "outputs": [
    {
     "name": "stdout",
     "output_type": "stream",
     "text": [
      "<class 'pandas.core.frame.DataFrame'>\n",
      "Int64Index: 16512 entries, 831 to 17963\n",
      "Data columns (total 9 columns):\n",
      " #   Column              Non-Null Count  Dtype  \n",
      "---  ------              --------------  -----  \n",
      " 0   longitude           16512 non-null  float64\n",
      " 1   latitude            16512 non-null  float64\n",
      " 2   housing_median_age  16512 non-null  float64\n",
      " 3   total_rooms         16512 non-null  float64\n",
      " 4   total_bedrooms      16512 non-null  float64\n",
      " 5   population          16512 non-null  float64\n",
      " 6   households          16512 non-null  float64\n",
      " 7   median_income       16512 non-null  float64\n",
      " 8   ocean_proximity     16512 non-null  object \n",
      "dtypes: float64(8), object(1)\n",
      "memory usage: 1.3+ MB\n"
     ]
    }
   ],
   "source": [
    "housing_X_2['total_bedrooms'].fillna(median, inplace=True)\n",
    "housing_X_2.info()"
   ]
  },
  {
   "cell_type": "code",
   "execution_count": 46,
   "metadata": {},
   "outputs": [
    {
     "data": {
      "text/plain": [
       "<1H OCEAN     7281\n",
       "INLAND        5265\n",
       "NEAR OCEAN    2126\n",
       "NEAR BAY      1837\n",
       "ISLAND           3\n",
       "Name: ocean_proximity, dtype: int64"
      ]
     },
     "execution_count": 46,
     "metadata": {},
     "output_type": "execute_result"
    }
   ],
   "source": [
    "housing_X_2['ocean_proximity'].value_counts()"
   ]
  },
  {
   "cell_type": "markdown",
   "metadata": {},
   "source": [
    "TEXT AND CATEGORICAL VARIABLES"
   ]
  },
  {
   "cell_type": "code",
   "execution_count": 47,
   "metadata": {},
   "outputs": [],
   "source": [
    "from sklearn.preprocessing import OneHotEncoder\n",
    "\n",
    "cat_encoder = OneHotEncoder()\n",
    "housing_cat = housing_X_2[['ocean_proximity']]\n",
    "\n",
    "housing_cat_1hot = cat_encoder.fit_transform(housing_cat)"
   ]
  },
  {
   "cell_type": "code",
   "execution_count": 48,
   "metadata": {},
   "outputs": [
    {
     "data": {
      "text/plain": [
       "pandas.core.frame.DataFrame"
      ]
     },
     "execution_count": 48,
     "metadata": {},
     "output_type": "execute_result"
    }
   ],
   "source": [
    "type(housing_cat)"
   ]
  },
  {
   "cell_type": "markdown",
   "metadata": {},
   "source": [
    "Transformation and Scaling"
   ]
  },
  {
   "cell_type": "code",
   "execution_count": 49,
   "metadata": {},
   "outputs": [
    {
     "ename": "NameError",
     "evalue": "name 'housing_X_2_num' is not defined",
     "output_type": "error",
     "traceback": [
      "\u001b[0;31m---------------------------------------------------------------------------\u001b[0m",
      "\u001b[0;31mNameError\u001b[0m                                 Traceback (most recent call last)",
      "\u001b[1;32m/Users/gurnit.sc/AnalyticsforBI/641ABI/Topic 1: Python and Libraries/Topic 2_endtoendmp proj/2_dataclean.ipynb Cell 27\u001b[0m line \u001b[0;36m<cell line: 5>\u001b[0;34m()\u001b[0m\n\u001b[1;32m      <a href='vscode-notebook-cell:/Users/gurnit.sc/AnalyticsforBI/641ABI/Topic%201%3A%20Python%20and%20Libraries/Topic%202_endtoendmp%20proj/2_dataclean.ipynb#X45sZmlsZQ%3D%3D?line=0'>1</a>\u001b[0m \u001b[39mfrom\u001b[39;00m \u001b[39msklearn\u001b[39;00m\u001b[39m.\u001b[39;00m\u001b[39mpreprocessing\u001b[39;00m \u001b[39mimport\u001b[39;00m MinMaxScaler\n\u001b[1;32m      <a href='vscode-notebook-cell:/Users/gurnit.sc/AnalyticsforBI/641ABI/Topic%201%3A%20Python%20and%20Libraries/Topic%202_endtoendmp%20proj/2_dataclean.ipynb#X45sZmlsZQ%3D%3D?line=2'>3</a>\u001b[0m min_max_scaler \u001b[39m=\u001b[39m MinMaxScaler(feature_range\u001b[39m=\u001b[39m(\u001b[39m0\u001b[39m,\u001b[39m1\u001b[39m))\n\u001b[0;32m----> <a href='vscode-notebook-cell:/Users/gurnit.sc/AnalyticsforBI/641ABI/Topic%201%3A%20Python%20and%20Libraries/Topic%202_endtoendmp%20proj/2_dataclean.ipynb#X45sZmlsZQ%3D%3D?line=4'>5</a>\u001b[0m housing_num_min_max_scaled \u001b[39m=\u001b[39m min_max_scaler\u001b[39m.\u001b[39mfit_transform(housing_X_2_num)\n",
      "\u001b[0;31mNameError\u001b[0m: name 'housing_X_2_num' is not defined"
     ]
    }
   ],
   "source": [
    "from sklearn.preprocessing import MinMaxScaler\n",
    "\n",
    "min_max_scaler = MinMaxScaler(feature_range=(0,1))\n",
    "\n",
    "housing_num_min_max_scaled = min_max_scaler.fit_transform(housing_X_2_num)"
   ]
  },
  {
   "cell_type": "markdown",
   "metadata": {},
   "source": [
    "standardization\n"
   ]
  },
  {
   "cell_type": "code",
   "execution_count": 2,
   "metadata": {},
   "outputs": [
    {
     "ename": "NameError",
     "evalue": "name 'housing_X_2' is not defined",
     "output_type": "error",
     "traceback": [
      "\u001b[0;31m---------------------------------------------------------------------------\u001b[0m",
      "\u001b[0;31mNameError\u001b[0m                                 Traceback (most recent call last)",
      "\u001b[1;32m/Users/gurnit.sc/AnalyticsforBI/641ABI/Topic 1: Python and Libraries/Topic 2_endtoendmp proj/2_dataclean.ipynb Cell 29\u001b[0m line \u001b[0;36m<cell line: 4>\u001b[0;34m()\u001b[0m\n\u001b[1;32m      <a href='vscode-notebook-cell:/Users/gurnit.sc/AnalyticsforBI/641ABI/Topic%201%3A%20Python%20and%20Libraries/Topic%202_endtoendmp%20proj/2_dataclean.ipynb#X42sZmlsZQ%3D%3D?line=0'>1</a>\u001b[0m \u001b[39mfrom\u001b[39;00m \u001b[39msklearn\u001b[39;00m\u001b[39m.\u001b[39;00m\u001b[39mpreprocessing\u001b[39;00m \u001b[39mimport\u001b[39;00m StandardScaler\n\u001b[1;32m      <a href='vscode-notebook-cell:/Users/gurnit.sc/AnalyticsforBI/641ABI/Topic%201%3A%20Python%20and%20Libraries/Topic%202_endtoendmp%20proj/2_dataclean.ipynb#X42sZmlsZQ%3D%3D?line=2'>3</a>\u001b[0m std_scaler \u001b[39m=\u001b[39m StandardScaler()\n\u001b[0;32m----> <a href='vscode-notebook-cell:/Users/gurnit.sc/AnalyticsforBI/641ABI/Topic%201%3A%20Python%20and%20Libraries/Topic%202_endtoendmp%20proj/2_dataclean.ipynb#X42sZmlsZQ%3D%3D?line=3'>4</a>\u001b[0m pop \u001b[39m=\u001b[39m housing_X_2[[\u001b[39m'\u001b[39m\u001b[39mpopulation\u001b[39m\u001b[39m'\u001b[39m]]\n\u001b[1;32m      <a href='vscode-notebook-cell:/Users/gurnit.sc/AnalyticsforBI/641ABI/Topic%201%3A%20Python%20and%20Libraries/Topic%202_endtoendmp%20proj/2_dataclean.ipynb#X42sZmlsZQ%3D%3D?line=4'>5</a>\u001b[0m std_scaler\u001b[39m.\u001b[39mfit(pop)\n\u001b[1;32m      <a href='vscode-notebook-cell:/Users/gurnit.sc/AnalyticsforBI/641ABI/Topic%201%3A%20Python%20and%20Libraries/Topic%202_endtoendmp%20proj/2_dataclean.ipynb#X42sZmlsZQ%3D%3D?line=6'>7</a>\u001b[0m std_scaler\u001b[39m.\u001b[39mmean, std_scaler\u001b[39m.\u001b[39mscale_\n",
      "\u001b[0;31mNameError\u001b[0m: name 'housing_X_2' is not defined"
     ]
    }
   ],
   "source": [
    "from sklearn.preprocessing import StandardScaler\n",
    "\n",
    "std_scaler = StandardScaler()\n",
    "pop = housing_X_2[['population']]\n",
    "std_scaler.fit(pop)\n",
    "\n",
    "std_scaler.mean, std_scaler.scale_\n"
   ]
  },
  {
   "cell_type": "markdown",
   "metadata": {},
   "source": [
    "Transformation Pipelines"
   ]
  },
  {
   "cell_type": "code",
   "execution_count": 3,
   "metadata": {},
   "outputs": [
    {
     "ename": "NameError",
     "evalue": "name 'SimpleImputer' is not defined",
     "output_type": "error",
     "traceback": [
      "\u001b[0;31m---------------------------------------------------------------------------\u001b[0m",
      "\u001b[0;31mNameError\u001b[0m                                 Traceback (most recent call last)",
      "\u001b[1;32m/Users/gurnit.sc/AnalyticsforBI/641ABI/Topic 1: Python and Libraries/Topic 2_endtoendmp proj/2_dataclean.ipynb Cell 31\u001b[0m line \u001b[0;36m<cell line: 3>\u001b[0;34m()\u001b[0m\n\u001b[1;32m      <a href='vscode-notebook-cell:/Users/gurnit.sc/AnalyticsforBI/641ABI/Topic%201%3A%20Python%20and%20Libraries/Topic%202_endtoendmp%20proj/2_dataclean.ipynb#X43sZmlsZQ%3D%3D?line=0'>1</a>\u001b[0m \u001b[39mfrom\u001b[39;00m \u001b[39msklearn\u001b[39;00m\u001b[39m.\u001b[39;00m\u001b[39mpipeline\u001b[39;00m \u001b[39mimport\u001b[39;00m Pipeline\n\u001b[1;32m      <a href='vscode-notebook-cell:/Users/gurnit.sc/AnalyticsforBI/641ABI/Topic%201%3A%20Python%20and%20Libraries/Topic%202_endtoendmp%20proj/2_dataclean.ipynb#X43sZmlsZQ%3D%3D?line=2'>3</a>\u001b[0m num_pipeline \u001b[39m=\u001b[39m Pipeline(\n\u001b[1;32m      <a href='vscode-notebook-cell:/Users/gurnit.sc/AnalyticsforBI/641ABI/Topic%201%3A%20Python%20and%20Libraries/Topic%202_endtoendmp%20proj/2_dataclean.ipynb#X43sZmlsZQ%3D%3D?line=3'>4</a>\u001b[0m     [\n\u001b[0;32m----> <a href='vscode-notebook-cell:/Users/gurnit.sc/AnalyticsforBI/641ABI/Topic%201%3A%20Python%20and%20Libraries/Topic%202_endtoendmp%20proj/2_dataclean.ipynb#X43sZmlsZQ%3D%3D?line=4'>5</a>\u001b[0m         (\u001b[39m\"\u001b[39m\u001b[39mimpute\u001b[39m\u001b[39m\"\u001b[39m, SimpleImputer(strategy\u001b[39m=\u001b[39m\u001b[39m'\u001b[39m\u001b[39mmedian\u001b[39m\u001b[39m'\u001b[39m)),\n\u001b[1;32m      <a href='vscode-notebook-cell:/Users/gurnit.sc/AnalyticsforBI/641ABI/Topic%201%3A%20Python%20and%20Libraries/Topic%202_endtoendmp%20proj/2_dataclean.ipynb#X43sZmlsZQ%3D%3D?line=5'>6</a>\u001b[0m         (\u001b[39m\"\u001b[39m\u001b[39mstandardize\u001b[39m\u001b[39m\"\u001b[39m, StandardScaler())\n\u001b[1;32m      <a href='vscode-notebook-cell:/Users/gurnit.sc/AnalyticsforBI/641ABI/Topic%201%3A%20Python%20and%20Libraries/Topic%202_endtoendmp%20proj/2_dataclean.ipynb#X43sZmlsZQ%3D%3D?line=6'>7</a>\u001b[0m     ]\n\u001b[1;32m      <a href='vscode-notebook-cell:/Users/gurnit.sc/AnalyticsforBI/641ABI/Topic%201%3A%20Python%20and%20Libraries/Topic%202_endtoendmp%20proj/2_dataclean.ipynb#X43sZmlsZQ%3D%3D?line=7'>8</a>\u001b[0m )\n\u001b[1;32m      <a href='vscode-notebook-cell:/Users/gurnit.sc/AnalyticsforBI/641ABI/Topic%201%3A%20Python%20and%20Libraries/Topic%202_endtoendmp%20proj/2_dataclean.ipynb#X43sZmlsZQ%3D%3D?line=8'>9</a>\u001b[0m housing_num_prepared \u001b[39m=\u001b[39m num_pipeline\u001b[39m.\u001b[39mfit_transform\n\u001b[1;32m     <a href='vscode-notebook-cell:/Users/gurnit.sc/AnalyticsforBI/641ABI/Topic%201%3A%20Python%20and%20Libraries/Topic%202_endtoendmp%20proj/2_dataclean.ipynb#X43sZmlsZQ%3D%3D?line=9'>10</a>\u001b[0m (housing_num_prepared\u001b[39m.\u001b[39mshape)\n",
      "\u001b[0;31mNameError\u001b[0m: name 'SimpleImputer' is not defined"
     ]
    }
   ],
   "source": [
    "from sklearn.pipeline import Pipeline\n",
    "\n",
    "num_pipeline = Pipeline(\n",
    "    [\n",
    "        (\"impute\", SimpleImputer(strategy='median')),\n",
    "        (\"standardize\", StandardScaler())\n",
    "    ]\n",
    ")\n",
    "housing_num_prepared = num_pipeline.fit_transform\n",
    "(housing_num_prepared.shape)"
   ]
  },
  {
   "cell_type": "markdown",
   "metadata": {},
   "source": [
    "Numerical and Categorical attributes"
   ]
  },
  {
   "cell_type": "code",
   "execution_count": 4,
   "metadata": {},
   "outputs": [
    {
     "name": "stderr",
     "output_type": "stream",
     "text": [
      "<>:19: SyntaxWarning: 'tuple' object is not callable; perhaps you missed a comma?\n",
      "<>:19: SyntaxWarning: 'tuple' object is not callable; perhaps you missed a comma?\n"
     ]
    },
    {
     "ename": "ModuleNotFoundError",
     "evalue": "No module named 'sk'",
     "output_type": "error",
     "traceback": [
      "\u001b[0;31m---------------------------------------------------------------------------\u001b[0m",
      "\u001b[0;31mModuleNotFoundError\u001b[0m                       Traceback (most recent call last)",
      "\u001b[1;32m/Users/gurnit.sc/AnalyticsforBI/641ABI/Topic 1: Python and Libraries/Topic 2_endtoendmp proj/2_dataclean.ipynb Cell 33\u001b[0m line \u001b[0;36m<cell line: 1>\u001b[0;34m()\u001b[0m\n\u001b[0;32m----> <a href='vscode-notebook-cell:/Users/gurnit.sc/AnalyticsforBI/641ABI/Topic%201%3A%20Python%20and%20Libraries/Topic%202_endtoendmp%20proj/2_dataclean.ipynb#X46sZmlsZQ%3D%3D?line=0'>1</a>\u001b[0m \u001b[39mfrom\u001b[39;00m \u001b[39msk\u001b[39;00m\u001b[39m.\u001b[39;00m\u001b[39mlearn\u001b[39;00m\u001b[39m.\u001b[39;00m\u001b[39mcompose\u001b[39;00m \u001b[39mimport\u001b[39;00m ColumnTransformer\n\u001b[1;32m      <a href='vscode-notebook-cell:/Users/gurnit.sc/AnalyticsforBI/641ABI/Topic%201%3A%20Python%20and%20Libraries/Topic%202_endtoendmp%20proj/2_dataclean.ipynb#X46sZmlsZQ%3D%3D?line=2'>3</a>\u001b[0m num_attributes \u001b[39m=\u001b[39m [\n\u001b[1;32m      <a href='vscode-notebook-cell:/Users/gurnit.sc/AnalyticsforBI/641ABI/Topic%201%3A%20Python%20and%20Libraries/Topic%202_endtoendmp%20proj/2_dataclean.ipynb#X46sZmlsZQ%3D%3D?line=3'>4</a>\u001b[0m    \u001b[39m'\u001b[39m\u001b[39mlongitude\u001b[39m\u001b[39m'\u001b[39m, \u001b[39m'\u001b[39m\u001b[39mlatitude\u001b[39m\u001b[39m'\u001b[39m, \u001b[39m'\u001b[39m\u001b[39mhousing_median_age\u001b[39m\u001b[39m'\u001b[39m, \u001b[39m'\u001b[39m\u001b[39mtotal_rooms\u001b[39m\u001b[39m'\u001b[39m, \u001b[39m'\u001b[39m\u001b[39mtotal_bedrooms\u001b[39m\u001b[39m'\u001b[39m, \u001b[39m'\u001b[39m\u001b[39mpopulation\u001b[39m\u001b[39m'\u001b[39m, \u001b[39m'\u001b[39m\u001b[39mhouseholds\u001b[39m\u001b[39m'\u001b[39m, \u001b[39m'\u001b[39m\u001b[39mmedian_income\u001b[39m\u001b[39m'\u001b[39m, \u001b[39m'\u001b[39m\u001b[39mmedian_house_value\u001b[39m\u001b[39m'\u001b[39m\n\u001b[1;32m      <a href='vscode-notebook-cell:/Users/gurnit.sc/AnalyticsforBI/641ABI/Topic%201%3A%20Python%20and%20Libraries/Topic%202_endtoendmp%20proj/2_dataclean.ipynb#X46sZmlsZQ%3D%3D?line=4'>5</a>\u001b[0m ]\n\u001b[1;32m      <a href='vscode-notebook-cell:/Users/gurnit.sc/AnalyticsforBI/641ABI/Topic%201%3A%20Python%20and%20Libraries/Topic%202_endtoendmp%20proj/2_dataclean.ipynb#X46sZmlsZQ%3D%3D?line=5'>6</a>\u001b[0m cat_attributes \u001b[39m=\u001b[39m [\u001b[39m'\u001b[39m\u001b[39mocean_proximity\u001b[39m\u001b[39m'\u001b[39m]\n",
      "\u001b[0;31mModuleNotFoundError\u001b[0m: No module named 'sk'"
     ]
    }
   ],
   "source": [
    "from sk.learn.compose import ColumnTransformer\n",
    "\n",
    "num_attributes = [\n",
    "   'longitude', 'latitude', 'housing_median_age', 'total_rooms', 'total_bedrooms', 'population', 'households', 'median_income', 'median_house_value'\n",
    "]\n",
    "cat_attributes = ['ocean_proximity']\n",
    "\n",
    "num_pipeline = make_pipeline(\n",
    "    SimpleImputer(strategy='median'),\n",
    "    StandardScaler()\n",
    ")\n",
    "\n",
    "cat_pipeline = make_pipeline(\n",
    "    SimpleImputer(strategy='most_frequent'),\n",
    "    OndHotEncoder()\n",
    ")\n",
    "\n",
    "preprocessing = ColumnTransformer([\n",
    "('num', num_pipeline, num_attributes)\n",
    "('cat', cat_pipeline, cat_attributes)\n",
    "]\n",
    "\n",
    "\n",
    ")"
   ]
  },
  {
   "cell_type": "code",
   "execution_count": null,
   "metadata": {},
   "outputs": [],
   "source": []
  }
 ],
 "metadata": {
  "kernelspec": {
   "display_name": "base",
   "language": "python",
   "name": "python3"
  },
  "language_info": {
   "codemirror_mode": {
    "name": "ipython",
    "version": 3
   },
   "file_extension": ".py",
   "mimetype": "text/x-python",
   "name": "python",
   "nbconvert_exporter": "python",
   "pygments_lexer": "ipython3",
   "version": "3.9.12"
  }
 },
 "nbformat": 4,
 "nbformat_minor": 2
}
